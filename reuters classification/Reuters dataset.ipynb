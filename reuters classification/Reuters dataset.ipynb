{
  "nbformat": 4,
  "nbformat_minor": 0,
  "metadata": {
    "colab": {
      "provenance": []
    },
    "kernelspec": {
      "name": "python3",
      "display_name": "Python 3"
    },
    "language_info": {
      "name": "python"
    }
  },
  "cells": [
    {
      "cell_type": "code",
      "execution_count": 1,
      "metadata": {
        "id": "MoBEfwetIjcw"
      },
      "outputs": [],
      "source": [
        "from keras.datasets import reuters"
      ]
    },
    {
      "cell_type": "code",
      "source": [
        "(train_data, train_labels), (test_data, test_labels) = reuters.load_data(\n",
        "    num_words=10000)"
      ],
      "metadata": {
        "colab": {
          "base_uri": "https://localhost:8080/"
        },
        "id": "neddsiPnIlw7",
        "outputId": "4a4e55b8-02e5-4d4f-bcc6-31b633f453e8"
      },
      "execution_count": 2,
      "outputs": [
        {
          "output_type": "stream",
          "name": "stdout",
          "text": [
            "Downloading data from https://storage.googleapis.com/tensorflow/tf-keras-datasets/reuters.npz\n",
            "2113536/2110848 [==============================] - 0s 0us/step\n",
            "2121728/2110848 [==============================] - 0s 0us/step\n"
          ]
        }
      ]
    },
    {
      "cell_type": "code",
      "source": [
        "len(train_data)\n",
        "len(test_data)"
      ],
      "metadata": {
        "colab": {
          "base_uri": "https://localhost:8080/"
        },
        "id": "CJUB7WgrImLW",
        "outputId": "c5a6dc51-39b7-4fa4-d12a-053d26073871"
      },
      "execution_count": 3,
      "outputs": [
        {
          "output_type": "execute_result",
          "data": {
            "text/plain": [
              "2246"
            ]
          },
          "metadata": {},
          "execution_count": 3
        }
      ]
    },
    {
      "cell_type": "code",
      "source": [
        "train_data[10]"
      ],
      "metadata": {
        "colab": {
          "base_uri": "https://localhost:8080/"
        },
        "id": "nWz16PRhIyUn",
        "outputId": "5ceb8348-1c42-4f94-8f45-c5b979b12ee8"
      },
      "execution_count": 4,
      "outputs": [
        {
          "output_type": "execute_result",
          "data": {
            "text/plain": [
              "[1,\n",
              " 245,\n",
              " 273,\n",
              " 207,\n",
              " 156,\n",
              " 53,\n",
              " 74,\n",
              " 160,\n",
              " 26,\n",
              " 14,\n",
              " 46,\n",
              " 296,\n",
              " 26,\n",
              " 39,\n",
              " 74,\n",
              " 2979,\n",
              " 3554,\n",
              " 14,\n",
              " 46,\n",
              " 4689,\n",
              " 4329,\n",
              " 86,\n",
              " 61,\n",
              " 3499,\n",
              " 4795,\n",
              " 14,\n",
              " 61,\n",
              " 451,\n",
              " 4329,\n",
              " 17,\n",
              " 12]"
            ]
          },
          "metadata": {},
          "execution_count": 4
        }
      ]
    },
    {
      "cell_type": "code",
      "source": [
        "word_index = reuters.get_word_index()\n",
        "reverse_word_index = dict([(value, key) for (key, value) in word_index.items()])\n",
        "decoded_newswire = ' '.join([reverse_word_index.get(i - 3, '?') for i in\n",
        "                             train_data[0]])"
      ],
      "metadata": {
        "colab": {
          "base_uri": "https://localhost:8080/"
        },
        "id": "d8GLp0OfI2qp",
        "outputId": "b2f82f70-bbb0-4eb4-dc04-7048ce70170e"
      },
      "execution_count": 6,
      "outputs": [
        {
          "output_type": "stream",
          "name": "stdout",
          "text": [
            "Downloading data from https://storage.googleapis.com/tensorflow/tf-keras-datasets/reuters_word_index.json\n",
            "557056/550378 [==============================] - 0s 0us/step\n",
            "565248/550378 [==============================] - 0s 0us/step\n"
          ]
        }
      ]
    },
    {
      "cell_type": "markdown",
      "source": [
        "preparing the data\n",
        "\n",
        "---\n",
        "\n",
        "\n"
      ],
      "metadata": {
        "id": "Pm0raG94JKIu"
      }
    },
    {
      "cell_type": "code",
      "source": [
        "import numpy as np\n",
        "def vectorize_sequences(sequences, dimension=10000):\n",
        "  results = np.zeros((len(sequences), dimension))\n",
        "  for i, sequence in enumerate(sequences):\n",
        "    results[i, sequence] = 1.\n",
        "  return results\n",
        "\n",
        "x_train = vectorize_sequences(train_data)\n",
        "x_test = vectorize_sequences(test_data)"
      ],
      "metadata": {
        "id": "hH_7-MKLJZ5Y"
      },
      "execution_count": 7,
      "outputs": []
    },
    {
      "cell_type": "code",
      "source": [
        "def to_one_hot(labels, dimension=46):\n",
        "  results = np.zeros((len(labels), dimension))  \n",
        "  for i, label in enumerate(labels):\n",
        "    results[i, label] = 1.\n",
        "  return results\n",
        "\n",
        "one_hot_train_labels = to_one_hot(train_labels)\n",
        "one_hot_test_labels = to_one_hot(test_labels)"
      ],
      "metadata": {
        "id": "VwAcUXKXJpay"
      },
      "execution_count": 8,
      "outputs": []
    },
    {
      "cell_type": "markdown",
      "source": [
        "Building your network"
      ],
      "metadata": {
        "id": "t_B3nNxHJ23c"
      }
    },
    {
      "cell_type": "code",
      "source": [
        "from keras import models\n",
        "from keras import layers\n",
        "\n",
        "model = models.Sequential()\n",
        "model.add(layers.Dense(64, activation='relu', input_shape=(10000,)))\n",
        "model.add(layers.Dense(64, activation='relu'))\n",
        "model.add(layers.Dense(46, activation='softmax'))"
      ],
      "metadata": {
        "id": "FvTpv3M6J5h9"
      },
      "execution_count": 9,
      "outputs": []
    },
    {
      "cell_type": "markdown",
      "source": [
        "Compiling the model"
      ],
      "metadata": {
        "id": "kNwqmYpGKFTt"
      }
    },
    {
      "cell_type": "code",
      "source": [
        "model.compile(optimizer='rmsprop',\n",
        "              loss='categorical_crossentropy',\n",
        "              metrics=['accuracy'])"
      ],
      "metadata": {
        "id": "tlQifostKGbd"
      },
      "execution_count": 10,
      "outputs": []
    },
    {
      "cell_type": "markdown",
      "source": [
        "Validating approach"
      ],
      "metadata": {
        "id": "YxAQudjTKK30"
      }
    },
    {
      "cell_type": "code",
      "source": [
        "x_val = x_train[:1000]\n",
        "partial_x_train = x_train[1000:]\n",
        "\n",
        "y_val = one_hot_train_labels[:1000]\n",
        "partial_y_train = one_hot_train_labels[1000:]"
      ],
      "metadata": {
        "id": "nR_QC1e6KNqz"
      },
      "execution_count": 11,
      "outputs": []
    },
    {
      "cell_type": "markdown",
      "source": [
        "Training the model"
      ],
      "metadata": {
        "id": "PViknQ89KT2l"
      }
    },
    {
      "cell_type": "code",
      "source": [
        "history = model.fit(partial_x_train,\n",
        "                    partial_y_train,\n",
        "                    epochs=20,\n",
        "                    batch_size=512,\n",
        "                    validation_data=(x_val, y_val))"
      ],
      "metadata": {
        "colab": {
          "base_uri": "https://localhost:8080/"
        },
        "id": "Mm8AQleiKUjc",
        "outputId": "b2889c95-38a1-4eb5-8190-9391ddf21b04"
      },
      "execution_count": 12,
      "outputs": [
        {
          "output_type": "stream",
          "name": "stdout",
          "text": [
            "Epoch 1/20\n",
            "16/16 [==============================] - 2s 58ms/step - loss: 2.7835 - accuracy: 0.4905 - val_loss: 1.8362 - val_accuracy: 0.6270\n",
            "Epoch 2/20\n",
            "16/16 [==============================] - 1s 46ms/step - loss: 1.5010 - accuracy: 0.6969 - val_loss: 1.3418 - val_accuracy: 0.7140\n",
            "Epoch 3/20\n",
            "16/16 [==============================] - 1s 46ms/step - loss: 1.0853 - accuracy: 0.7749 - val_loss: 1.1422 - val_accuracy: 0.7580\n",
            "Epoch 4/20\n",
            "16/16 [==============================] - 1s 45ms/step - loss: 0.8505 - accuracy: 0.8242 - val_loss: 1.0525 - val_accuracy: 0.7670\n",
            "Epoch 5/20\n",
            "16/16 [==============================] - 1s 45ms/step - loss: 0.6753 - accuracy: 0.8567 - val_loss: 0.9874 - val_accuracy: 0.7960\n",
            "Epoch 6/20\n",
            "16/16 [==============================] - 1s 46ms/step - loss: 0.5438 - accuracy: 0.8859 - val_loss: 0.9255 - val_accuracy: 0.8070\n",
            "Epoch 7/20\n",
            "16/16 [==============================] - 1s 46ms/step - loss: 0.4416 - accuracy: 0.9052 - val_loss: 0.8950 - val_accuracy: 0.8140\n",
            "Epoch 8/20\n",
            "16/16 [==============================] - 1s 45ms/step - loss: 0.3600 - accuracy: 0.9223 - val_loss: 0.8896 - val_accuracy: 0.8130\n",
            "Epoch 9/20\n",
            "16/16 [==============================] - 1s 46ms/step - loss: 0.2960 - accuracy: 0.9344 - val_loss: 0.9428 - val_accuracy: 0.8130\n",
            "Epoch 10/20\n",
            "16/16 [==============================] - 1s 46ms/step - loss: 0.2544 - accuracy: 0.9409 - val_loss: 0.9048 - val_accuracy: 0.8220\n",
            "Epoch 11/20\n",
            "16/16 [==============================] - 1s 46ms/step - loss: 0.2149 - accuracy: 0.9478 - val_loss: 0.9620 - val_accuracy: 0.8140\n",
            "Epoch 12/20\n",
            "16/16 [==============================] - 1s 45ms/step - loss: 0.1931 - accuracy: 0.9509 - val_loss: 0.9533 - val_accuracy: 0.8080\n",
            "Epoch 13/20\n",
            "16/16 [==============================] - 1s 46ms/step - loss: 0.1761 - accuracy: 0.9500 - val_loss: 0.9749 - val_accuracy: 0.8140\n",
            "Epoch 14/20\n",
            "16/16 [==============================] - 1s 45ms/step - loss: 0.1554 - accuracy: 0.9549 - val_loss: 0.9723 - val_accuracy: 0.8210\n",
            "Epoch 15/20\n",
            "16/16 [==============================] - 1s 46ms/step - loss: 0.1423 - accuracy: 0.9554 - val_loss: 0.9858 - val_accuracy: 0.8160\n",
            "Epoch 16/20\n",
            "16/16 [==============================] - 1s 45ms/step - loss: 0.1355 - accuracy: 0.9555 - val_loss: 1.0209 - val_accuracy: 0.8110\n",
            "Epoch 17/20\n",
            "16/16 [==============================] - 1s 45ms/step - loss: 0.1294 - accuracy: 0.9590 - val_loss: 1.0210 - val_accuracy: 0.8100\n",
            "Epoch 18/20\n",
            "16/16 [==============================] - 1s 56ms/step - loss: 0.1215 - accuracy: 0.9573 - val_loss: 1.0619 - val_accuracy: 0.8130\n",
            "Epoch 19/20\n",
            "16/16 [==============================] - 1s 59ms/step - loss: 0.1204 - accuracy: 0.9570 - val_loss: 1.0406 - val_accuracy: 0.8100\n",
            "Epoch 20/20\n",
            "16/16 [==============================] - 1s 59ms/step - loss: 0.1113 - accuracy: 0.9585 - val_loss: 1.0820 - val_accuracy: 0.7960\n"
          ]
        }
      ]
    },
    {
      "cell_type": "markdown",
      "source": [
        "Plotting the training and validation loss"
      ],
      "metadata": {
        "id": "pyME932bKeD8"
      }
    },
    {
      "cell_type": "code",
      "source": [
        "import matplotlib.pyplot as plt\n",
        "\n",
        "loss = history.history['loss']\n",
        "val_loss = history.history['val_loss']\n",
        "\n",
        "epochs = range(1, len(loss) + 1)\n",
        "\n",
        "plt.plot(epochs, loss, 'bo', label='Training loss')\n",
        "plt.plot(epochs, val_loss, 'b', label='Validation loss')\n",
        "plt.title('Training and validation loss')\n",
        "plt.xlabel('Epochs')\n",
        "plt.ylabel('Loss')\n",
        "plt.legend()\n",
        "plt.show()"
      ],
      "metadata": {
        "colab": {
          "base_uri": "https://localhost:8080/",
          "height": 295
        },
        "id": "yl2WfA4MKfiv",
        "outputId": "054a66b1-89f7-401c-9f13-1feeb32fc9d2"
      },
      "execution_count": 13,
      "outputs": [
        {
          "output_type": "display_data",
          "data": {
            "text/plain": [
              "<Figure size 432x288 with 1 Axes>"
            ],
            "image/png": "[encoded data removed]"
          },
          "metadata": {
            "needs_background": "light"
          }
        }
      ]
    },
    {
      "cell_type": "code",
      "source": [
        "model = models.Sequential()\n",
        "model.add(layers.Dense(64, activation='relu', input_shape=(10000,)))\n",
        "model.add(layers.Dense(64, activation='relu'))\n",
        "model.add(layers.Dense(46, activation='softmax'))\n",
        "\n",
        "model.compile(optimizer='rmsprop',\n",
        "              loss='categorical_crossentropy',\n",
        "              metrics=['accuracy'])\n",
        "\n",
        "model.fit(partial_x_train,\n",
        "          partial_y_train,\n",
        "          epochs=9,\n",
        "          batch_size=512,\n",
        "          validation_data=(x_val, y_val))\n",
        "\n",
        "results = model.evaluate(x_test, one_hot_test_labels)"
      ],
      "metadata": {
        "colab": {
          "base_uri": "https://localhost:8080/"
        },
        "id": "1P2eocOGK0Qb",
        "outputId": "a2a7337c-a276-436e-9d52-4ae51eefe509"
      },
      "execution_count": 14,
      "outputs": [
        {
          "output_type": "stream",
          "name": "stdout",
          "text": [
            "Epoch 1/9\n",
            "16/16 [==============================] - 1s 54ms/step - loss: 2.6262 - accuracy: 0.5215 - val_loss: 1.7530 - val_accuracy: 0.6360\n",
            "Epoch 2/9\n",
            "16/16 [==============================] - 1s 44ms/step - loss: 1.4338 - accuracy: 0.6989 - val_loss: 1.3336 - val_accuracy: 0.7090\n",
            "Epoch 3/9\n",
            "16/16 [==============================] - 1s 44ms/step - loss: 1.0548 - accuracy: 0.7752 - val_loss: 1.1534 - val_accuracy: 0.7560\n",
            "Epoch 4/9\n",
            "16/16 [==============================] - 1s 45ms/step - loss: 0.8223 - accuracy: 0.8285 - val_loss: 1.0648 - val_accuracy: 0.7760\n",
            "Epoch 5/9\n",
            "16/16 [==============================] - 1s 45ms/step - loss: 0.6505 - accuracy: 0.8702 - val_loss: 0.9638 - val_accuracy: 0.8020\n",
            "Epoch 6/9\n",
            "16/16 [==============================] - 1s 46ms/step - loss: 0.5216 - accuracy: 0.8955 - val_loss: 0.9460 - val_accuracy: 0.7950\n",
            "Epoch 7/9\n",
            "16/16 [==============================] - 1s 45ms/step - loss: 0.4196 - accuracy: 0.9138 - val_loss: 0.9334 - val_accuracy: 0.7970\n",
            "Epoch 8/9\n",
            "16/16 [==============================] - 1s 45ms/step - loss: 0.3392 - accuracy: 0.9296 - val_loss: 0.9505 - val_accuracy: 0.7940\n",
            "Epoch 9/9\n",
            "16/16 [==============================] - 1s 45ms/step - loss: 0.2817 - accuracy: 0.9386 - val_loss: 0.9189 - val_accuracy: 0.8130\n",
            "71/71 [==============================] - 0s 3ms/step - loss: 1.0491 - accuracy: 0.7756\n"
          ]
        }
      ]
    },
    {
      "cell_type": "code",
      "source": [
        "results"
      ],
      "metadata": {
        "colab": {
          "base_uri": "https://localhost:8080/"
        },
        "id": "JXMPr3w_LC4Z",
        "outputId": "e2a80ada-709b-453d-aaee-2f6020212e9c"
      },
      "execution_count": 15,
      "outputs": [
        {
          "output_type": "execute_result",
          "data": {
            "text/plain": [
              "[1.0491423606872559, 0.7756010890007019]"
            ]
          },
          "metadata": {},
          "execution_count": 15
        }
      ]
    },
    {
      "cell_type": "code",
      "source": [],
      "metadata": {
        "id": "wu8i4kZBLY-L"
      },
      "execution_count": null,
      "outputs": []
    }
  ]
}